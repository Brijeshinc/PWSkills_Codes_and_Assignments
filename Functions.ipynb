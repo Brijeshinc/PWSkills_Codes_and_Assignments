{
  "nbformat": 4,
  "nbformat_minor": 0,
  "metadata": {
    "colab": {
      "provenance": []
    },
    "kernelspec": {
      "name": "python3",
      "display_name": "Python 3"
    },
    "language_info": {
      "name": "python"
    }
  },
  "cells": [
    {
      "cell_type": "markdown",
      "source": [
        "# **Theory Questions**"
      ],
      "metadata": {
        "id": "uFDU7-0ssRYr"
      }
    },
    {
      "cell_type": "markdown",
      "source": [
        "Q1.  What is the difference between a function and a method in Python?\n",
        "\n",
        "Ans1. A function is a block of reusable code defined with def that can exist independently and be called directly. Whereas, A method is also a function, but it is defined inside a class and is associated with an object or the class itself."
      ],
      "metadata": {
        "id": "oqnmqbvlsXCC"
      }
    },
    {
      "cell_type": "code",
      "source": [
        "def sqr(x):\n",
        "    return x*x\n",
        "\n",
        "class M_cals:\n",
        "    def c_sqr(self,x):\n",
        "        return x*x\n",
        "\n",
        "n=int(input(\"Enter a number for square calculation using function:\",))\n",
        "print(\"Square of given number using function:\", sqr(n))\n",
        "t=M_cals()\n",
        "print(\"Square of given number using method:\",t.c_sqr(n))"
      ],
      "metadata": {
        "colab": {
          "base_uri": "https://localhost:8080/"
        },
        "id": "oOuZj35lvqzK",
        "outputId": "31bb3610-cf83-42a5-9e30-167acde33b5e"
      },
      "execution_count": null,
      "outputs": [
        {
          "output_type": "stream",
          "name": "stdout",
          "text": [
            "Enter a number for square calculation using function:2\n",
            "Square of given number using function: 4\n",
            "Square of given number using method: 4\n"
          ]
        }
      ]
    },
    {
      "cell_type": "markdown",
      "source": [
        "Q2. Explain the concept of function arguments and parameters in Python.\n",
        "\n",
        "Ans2. Parameters are the variable names defined in a function’s header, which act as placeholders for input values. Whereas, Arguments are the actual values we pass when calling the function, which get assigned to the parameters."
      ],
      "metadata": {
        "id": "51ArcLKNwJhK"
      }
    },
    {
      "cell_type": "code",
      "source": [
        "def repeat_word(word, times):   # word, times → parameters\n",
        "    print((word + \" \") * times)\n",
        "\n",
        "repeat_word(\"Python\", 3)        # \"Python\", 3 → arguments"
      ],
      "metadata": {
        "colab": {
          "base_uri": "https://localhost:8080/"
        },
        "id": "Fpktfd_iw20S",
        "outputId": "80bd2e91-09ab-44b4-858a-0dcb83560e59"
      },
      "execution_count": null,
      "outputs": [
        {
          "output_type": "stream",
          "name": "stdout",
          "text": [
            "Python Python Python \n"
          ]
        }
      ]
    },
    {
      "cell_type": "markdown",
      "source": [
        "Q3.  What are the different ways to define and call a function in Python?\n",
        "\n",
        "Ans3. Functions can be defined using def. They can include positional, default, keyword, and variable-length parameters. Functions can be called by passing positional arguments, keyword arguments, or by relying on default values. Where normal values can be passed to a function, while using *args, input values are considered as tuple and incase of **kwargs uses to return input in dictionary.\n"
      ],
      "metadata": {
        "id": "GawrShIiwgAq"
      }
    },
    {
      "cell_type": "code",
      "source": [
        "def d(x, *args, **kwargs):\n",
        "    print(\"x =\", x)            # normal parameter\n",
        "    print(\"args =\", args)      # tuple of extra values\n",
        "    print(\"kwargs =\", kwargs)  # dict of extra keyword values\n",
        "d(1, 2, 3, 4, a=10, b=20)\n",
        "\n",
        "d(1,2,3,4,5,6,7,7)\n",
        "d(1, a=1,b=2,c=3,d=4,e=5)"
      ],
      "metadata": {
        "colab": {
          "base_uri": "https://localhost:8080/"
        },
        "id": "nNv-_JSkxyDz",
        "outputId": "5c02cd7f-76ae-4b24-cc0f-a5994fbf8bf7"
      },
      "execution_count": null,
      "outputs": [
        {
          "output_type": "stream",
          "name": "stdout",
          "text": [
            "x = 1\n",
            "args = (2, 3, 4)\n",
            "kwargs = {'a': 10, 'b': 20}\n",
            "x = 1\n",
            "args = (2, 3, 4, 5, 6, 7, 7)\n",
            "kwargs = {}\n",
            "x = 1\n",
            "args = ()\n",
            "kwargs = {'a': 1, 'b': 2, 'c': 3, 'd': 4, 'e': 5}\n"
          ]
        }
      ]
    },
    {
      "cell_type": "markdown",
      "source": [
        "Q4. What is the purpose of the `return` statement in a Python function?\n",
        "\n",
        "Ans4. The return statement is used to send a value back from a function to the caller."
      ],
      "metadata": {
        "id": "lodiCqB50rKV"
      }
    },
    {
      "cell_type": "code",
      "source": [
        "def sqr(x):\n",
        "    return x*x\n",
        "\n",
        "n=int(input(\"Enter a number for square calculation using function:\",))\n",
        "print(\"Square of given number using function:\", sqr(n))"
      ],
      "metadata": {
        "colab": {
          "base_uri": "https://localhost:8080/"
        },
        "id": "l6IfIUhq1GLO",
        "outputId": "11cc8219-d3b4-469e-9b33-f4fc4a85a6be"
      },
      "execution_count": null,
      "outputs": [
        {
          "output_type": "stream",
          "name": "stdout",
          "text": [
            "Enter a number for square calculation using function:3\n",
            "Square of given number using function: 9\n"
          ]
        }
      ]
    },
    {
      "cell_type": "markdown",
      "source": [
        "Q5. What are iterators in Python and how do they differ from iterables?\n",
        "\n",
        "Ans5. Iterables are containers (like lists, tuples, or strings) that can return values stored in it. Iterators are objects that read elements from an iterable sequentially."
      ],
      "metadata": {
        "id": "rUux1VUh1M7t"
      }
    },
    {
      "cell_type": "code",
      "source": [
        "# Iterable\n",
        "nums = [10, 20, 30, 40, 50]   # list is an iterable\n",
        "\n",
        "# Iterator\n",
        "it = iter(nums)       # creates an iterator\n",
        "\n",
        "print(next(it))\n",
        "print(next(it))\n",
        "print(next(it))\n"
      ],
      "metadata": {
        "colab": {
          "base_uri": "https://localhost:8080/"
        },
        "id": "ANZvfHTN22_v",
        "outputId": "ce36c77e-4e27-4ca4-d9c3-e353b38442db"
      },
      "execution_count": null,
      "outputs": [
        {
          "output_type": "stream",
          "name": "stdout",
          "text": [
            "10\n",
            "20\n",
            "30\n"
          ]
        }
      ]
    },
    {
      "cell_type": "markdown",
      "source": [
        "Q6.  Explain the concept of generators in Python and how they are defined.\n",
        "\n",
        "Ans6. Generators in Python are functions that use a special return that pauses execution to produce values one at a time. They are memory-efficient, pausing after each value and resuming when called again. This makes them useful for iterating large or infinite sequences without storing everything in memory."
      ],
      "metadata": {
        "id": "IzZakIqWtghy"
      }
    },
    {
      "cell_type": "code",
      "source": [
        "def squares(n):\n",
        "    for i in range(1, n+1):\n",
        "        yield i * i   # yields square instead of storing all at once\n",
        "\n",
        "gen = squares(5)\n",
        "for val in gen:\n",
        "    print(val)\n"
      ],
      "metadata": {
        "colab": {
          "base_uri": "https://localhost:8080/"
        },
        "id": "zsFOyN5X3sgv",
        "outputId": "af01f2c7-1261-4da0-a156-537dd324134a"
      },
      "execution_count": null,
      "outputs": [
        {
          "output_type": "stream",
          "name": "stdout",
          "text": [
            "1\n",
            "4\n",
            "9\n",
            "16\n",
            "25\n"
          ]
        }
      ]
    },
    {
      "cell_type": "markdown",
      "source": [
        "Q7. What are the advantages of using generators over regular functions?\n",
        "\n",
        "Ans7. Generators are memory-efficient because they yield values one at a time and can handle large sequences without storing them fully."
      ],
      "metadata": {
        "id": "F95IgIyX3_cH"
      }
    },
    {
      "cell_type": "code",
      "source": [
        "import sys\n",
        "\n",
        "# Regular list\n",
        "nums_list = [i*i for i in range(1000000)]\n",
        "print(\"List size in MB:\", sys.getsizeof(nums_list) / 1e6)\n",
        "\n",
        "# Generator\n",
        "nums_gen = (i*i for i in range(1000000))\n",
        "print(\"Generator size in MB:\", sys.getsizeof(nums_gen) / 1e6)\n"
      ],
      "metadata": {
        "colab": {
          "base_uri": "https://localhost:8080/"
        },
        "id": "yH_8SuuE4u1I",
        "outputId": "1ba81abf-7a62-46a6-cb78-5e1a08e79b3b"
      },
      "execution_count": null,
      "outputs": [
        {
          "output_type": "stream",
          "name": "stdout",
          "text": [
            "List size in MB: 8.448728\n",
            "Generator size in MB: 0.0002\n"
          ]
        }
      ]
    },
    {
      "cell_type": "markdown",
      "source": [
        "Q8. What is a lambda function in Python and when is it typically used?\n",
        "\n",
        "Ans8. A lambda function in Python is an anonymous, one-line function defined using the lambda keyword. It is used of small tasks or calculations."
      ],
      "metadata": {
        "id": "W4X8YiES4zjH"
      }
    },
    {
      "cell_type": "code",
      "source": [
        "nums = [5, 2, 9, 1]\n",
        "sorted_nums = sorted(nums, key=lambda x: x)\n",
        "print(sorted_nums)\n"
      ],
      "metadata": {
        "colab": {
          "base_uri": "https://localhost:8080/"
        },
        "id": "3u_dBXBF5J-4",
        "outputId": "dd3b6a7e-dd31-4a5a-c478-f49ebde95344"
      },
      "execution_count": null,
      "outputs": [
        {
          "output_type": "stream",
          "name": "stdout",
          "text": [
            "[1, 2, 5, 9]\n"
          ]
        }
      ]
    },
    {
      "cell_type": "markdown",
      "source": [
        "Q9.  Explain the purpose and usage of the `map()` function in Python.\n",
        "\n",
        "Ans9. The map() function applies a given function to each element of an iterable and returns a map object. This result can be converted to a list, tuple, or set, making it useful for transforming sequences without explicit loops."
      ],
      "metadata": {
        "id": "qtr4-xwJ5hD4"
      }
    },
    {
      "cell_type": "code",
      "source": [
        "nums = [1, 2, 3, 4, 5]\n",
        "\n",
        "doubled = map(lambda x: x * 2, nums)\n",
        "\n",
        "print(list(doubled))\n"
      ],
      "metadata": {
        "colab": {
          "base_uri": "https://localhost:8080/"
        },
        "id": "iuRll53m6Klg",
        "outputId": "c4153b76-c95e-4724-88c6-38065773f7ce"
      },
      "execution_count": null,
      "outputs": [
        {
          "output_type": "stream",
          "name": "stdout",
          "text": [
            "[2, 4, 6, 8, 10]\n"
          ]
        }
      ]
    },
    {
      "cell_type": "markdown",
      "source": [
        "Q10. What is the difference between `map()`, `reduce()`, and `filter()` functions in Python?\n",
        "\n",
        "Ans10. The map() function applies a given function to each element of an iterable and returns the transformed results. The filter() function applies a condition (boolean function) and returns only the elements that satisfy that condition. On the other hand, the reduce() function (from functools) applies a function cumulatively to the elements of an iterable, reducing them to a single value."
      ],
      "metadata": {
        "id": "cF1Ke5HN8hUk"
      }
    },
    {
      "cell_type": "code",
      "source": [
        "from functools import reduce\n",
        "\n",
        "nums = [1, 2, 3, 4, 5]\n",
        "\n",
        "squares = list(map(lambda x: x**2, nums))\n",
        "\n",
        "evens = list(filter(lambda x: x % 2 == 0, nums))\n",
        "\n",
        "total = reduce(lambda x, y: x + y, nums)\n",
        "\n",
        "print(\"Squares:\", squares)   # [1, 4, 9, 16, 25]\n",
        "print(\"Evens:\", evens)       # [2, 4]\n",
        "print(\"Total:\", total)       # 15\n"
      ],
      "metadata": {
        "colab": {
          "base_uri": "https://localhost:8080/"
        },
        "id": "_2acd6Lm3-Pb",
        "outputId": "88a79c56-e9ae-4b05-da7c-c627e6b96f59"
      },
      "execution_count": null,
      "outputs": [
        {
          "output_type": "stream",
          "name": "stdout",
          "text": [
            "Squares: [1, 4, 9, 16, 25]\n",
            "Evens: [2, 4]\n",
            "Total: 15\n"
          ]
        }
      ]
    },
    {
      "cell_type": "markdown",
      "source": [
        " Q11. Using pen & Paper write the internal mechanism for sum operation using  reduce function on this given list:[47,11,42,13]\n",
        "\n",
        " Ans11."
      ],
      "metadata": {
        "id": "Zveze4Qs-Srl"
      }
    },
    {
      "cell_type": "code",
      "source": [
        "from functools import reduce\n",
        "\n",
        "nums = [47, 11, 42, 13]\n",
        "\n",
        "total = reduce(lambda x, y: x + y, nums)\n",
        "\n",
        "print(\"Total:\", total)"
      ],
      "metadata": {
        "id": "LwgN1y8L-a9V",
        "colab": {
          "base_uri": "https://localhost:8080/"
        },
        "outputId": "b08dac87-7c83-437f-8f36-87c34b522187"
      },
      "execution_count": 7,
      "outputs": [
        {
          "output_type": "stream",
          "name": "stdout",
          "text": [
            "Total: 113\n"
          ]
        }
      ]
    },
    {
      "cell_type": "code",
      "source": [
        "from google.colab import files\n",
        "from IPython.display import Image\n",
        "uploaded = files.upload()"
      ],
      "metadata": {
        "colab": {
          "base_uri": "https://localhost:8080/",
          "height": 73
        },
        "id": "gxjnwxUTb19W",
        "outputId": "43ce5268-bb01-4f24-aedc-2bbc8f0d5e67"
      },
      "execution_count": 9,
      "outputs": [
        {
          "output_type": "display_data",
          "data": {
            "text/plain": [
              "<IPython.core.display.HTML object>"
            ],
            "text/html": [
              "\n",
              "     <input type=\"file\" id=\"files-7b7207c1-001d-4fd9-98c3-49a3a6799bac\" name=\"files[]\" multiple disabled\n",
              "        style=\"border:none\" />\n",
              "     <output id=\"result-7b7207c1-001d-4fd9-98c3-49a3a6799bac\">\n",
              "      Upload widget is only available when the cell has been executed in the\n",
              "      current browser session. Please rerun this cell to enable.\n",
              "      </output>\n",
              "      <script>// Copyright 2017 Google LLC\n",
              "//\n",
              "// Licensed under the Apache License, Version 2.0 (the \"License\");\n",
              "// you may not use this file except in compliance with the License.\n",
              "// You may obtain a copy of the License at\n",
              "//\n",
              "//      http://www.apache.org/licenses/LICENSE-2.0\n",
              "//\n",
              "// Unless required by applicable law or agreed to in writing, software\n",
              "// distributed under the License is distributed on an \"AS IS\" BASIS,\n",
              "// WITHOUT WARRANTIES OR CONDITIONS OF ANY KIND, either express or implied.\n",
              "// See the License for the specific language governing permissions and\n",
              "// limitations under the License.\n",
              "\n",
              "/**\n",
              " * @fileoverview Helpers for google.colab Python module.\n",
              " */\n",
              "(function(scope) {\n",
              "function span(text, styleAttributes = {}) {\n",
              "  const element = document.createElement('span');\n",
              "  element.textContent = text;\n",
              "  for (const key of Object.keys(styleAttributes)) {\n",
              "    element.style[key] = styleAttributes[key];\n",
              "  }\n",
              "  return element;\n",
              "}\n",
              "\n",
              "// Max number of bytes which will be uploaded at a time.\n",
              "const MAX_PAYLOAD_SIZE = 100 * 1024;\n",
              "\n",
              "function _uploadFiles(inputId, outputId) {\n",
              "  const steps = uploadFilesStep(inputId, outputId);\n",
              "  const outputElement = document.getElementById(outputId);\n",
              "  // Cache steps on the outputElement to make it available for the next call\n",
              "  // to uploadFilesContinue from Python.\n",
              "  outputElement.steps = steps;\n",
              "\n",
              "  return _uploadFilesContinue(outputId);\n",
              "}\n",
              "\n",
              "// This is roughly an async generator (not supported in the browser yet),\n",
              "// where there are multiple asynchronous steps and the Python side is going\n",
              "// to poll for completion of each step.\n",
              "// This uses a Promise to block the python side on completion of each step,\n",
              "// then passes the result of the previous step as the input to the next step.\n",
              "function _uploadFilesContinue(outputId) {\n",
              "  const outputElement = document.getElementById(outputId);\n",
              "  const steps = outputElement.steps;\n",
              "\n",
              "  const next = steps.next(outputElement.lastPromiseValue);\n",
              "  return Promise.resolve(next.value.promise).then((value) => {\n",
              "    // Cache the last promise value to make it available to the next\n",
              "    // step of the generator.\n",
              "    outputElement.lastPromiseValue = value;\n",
              "    return next.value.response;\n",
              "  });\n",
              "}\n",
              "\n",
              "/**\n",
              " * Generator function which is called between each async step of the upload\n",
              " * process.\n",
              " * @param {string} inputId Element ID of the input file picker element.\n",
              " * @param {string} outputId Element ID of the output display.\n",
              " * @return {!Iterable<!Object>} Iterable of next steps.\n",
              " */\n",
              "function* uploadFilesStep(inputId, outputId) {\n",
              "  const inputElement = document.getElementById(inputId);\n",
              "  inputElement.disabled = false;\n",
              "\n",
              "  const outputElement = document.getElementById(outputId);\n",
              "  outputElement.innerHTML = '';\n",
              "\n",
              "  const pickedPromise = new Promise((resolve) => {\n",
              "    inputElement.addEventListener('change', (e) => {\n",
              "      resolve(e.target.files);\n",
              "    });\n",
              "  });\n",
              "\n",
              "  const cancel = document.createElement('button');\n",
              "  inputElement.parentElement.appendChild(cancel);\n",
              "  cancel.textContent = 'Cancel upload';\n",
              "  const cancelPromise = new Promise((resolve) => {\n",
              "    cancel.onclick = () => {\n",
              "      resolve(null);\n",
              "    };\n",
              "  });\n",
              "\n",
              "  // Wait for the user to pick the files.\n",
              "  const files = yield {\n",
              "    promise: Promise.race([pickedPromise, cancelPromise]),\n",
              "    response: {\n",
              "      action: 'starting',\n",
              "    }\n",
              "  };\n",
              "\n",
              "  cancel.remove();\n",
              "\n",
              "  // Disable the input element since further picks are not allowed.\n",
              "  inputElement.disabled = true;\n",
              "\n",
              "  if (!files) {\n",
              "    return {\n",
              "      response: {\n",
              "        action: 'complete',\n",
              "      }\n",
              "    };\n",
              "  }\n",
              "\n",
              "  for (const file of files) {\n",
              "    const li = document.createElement('li');\n",
              "    li.append(span(file.name, {fontWeight: 'bold'}));\n",
              "    li.append(span(\n",
              "        `(${file.type || 'n/a'}) - ${file.size} bytes, ` +\n",
              "        `last modified: ${\n",
              "            file.lastModifiedDate ? file.lastModifiedDate.toLocaleDateString() :\n",
              "                                    'n/a'} - `));\n",
              "    const percent = span('0% done');\n",
              "    li.appendChild(percent);\n",
              "\n",
              "    outputElement.appendChild(li);\n",
              "\n",
              "    const fileDataPromise = new Promise((resolve) => {\n",
              "      const reader = new FileReader();\n",
              "      reader.onload = (e) => {\n",
              "        resolve(e.target.result);\n",
              "      };\n",
              "      reader.readAsArrayBuffer(file);\n",
              "    });\n",
              "    // Wait for the data to be ready.\n",
              "    let fileData = yield {\n",
              "      promise: fileDataPromise,\n",
              "      response: {\n",
              "        action: 'continue',\n",
              "      }\n",
              "    };\n",
              "\n",
              "    // Use a chunked sending to avoid message size limits. See b/62115660.\n",
              "    let position = 0;\n",
              "    do {\n",
              "      const length = Math.min(fileData.byteLength - position, MAX_PAYLOAD_SIZE);\n",
              "      const chunk = new Uint8Array(fileData, position, length);\n",
              "      position += length;\n",
              "\n",
              "      const base64 = btoa(String.fromCharCode.apply(null, chunk));\n",
              "      yield {\n",
              "        response: {\n",
              "          action: 'append',\n",
              "          file: file.name,\n",
              "          data: base64,\n",
              "        },\n",
              "      };\n",
              "\n",
              "      let percentDone = fileData.byteLength === 0 ?\n",
              "          100 :\n",
              "          Math.round((position / fileData.byteLength) * 100);\n",
              "      percent.textContent = `${percentDone}% done`;\n",
              "\n",
              "    } while (position < fileData.byteLength);\n",
              "  }\n",
              "\n",
              "  // All done.\n",
              "  yield {\n",
              "    response: {\n",
              "      action: 'complete',\n",
              "    }\n",
              "  };\n",
              "}\n",
              "\n",
              "scope.google = scope.google || {};\n",
              "scope.google.colab = scope.google.colab || {};\n",
              "scope.google.colab._files = {\n",
              "  _uploadFiles,\n",
              "  _uploadFilesContinue,\n",
              "};\n",
              "})(self);\n",
              "</script> "
            ]
          },
          "metadata": {}
        },
        {
          "output_type": "stream",
          "name": "stdout",
          "text": [
            "Saving image.jpeg to image.jpeg\n"
          ]
        }
      ]
    },
    {
      "cell_type": "code",
      "source": [
        "Image('image.jpeg')"
      ],
      "metadata": {
        "colab": {
          "base_uri": "https://localhost:8080/",
          "height": 1000
        },
        "id": "sFrG3BxAcehX",
        "outputId": "e25da259-d481-4044-eb0e-8354c8e790fb"
      },
      "execution_count": 11,
      "outputs": [
        {
          "output_type": "execute_result",
          "data": {
            "image/jpeg": "[encoded data removed]",
            "text/plain": [
              "<IPython.core.display.Image object>"
            ]
          },
          "metadata": {},
          "execution_count": 11
        }
      ]
    },
    {
      "cell_type": "markdown",
      "source": [
        "# Practical Questions"
      ],
      "metadata": {
        "id": "tKKEKKMZYGPn"
      }
    },
    {
      "cell_type": "markdown",
      "source": [
        "Q1. Write a Python function that takes a list of numbers as input and returns the sum of all even numbers in the list."
      ],
      "metadata": {
        "id": "JJG_IUjG-uV-"
      }
    },
    {
      "cell_type": "code",
      "source": [
        "\n",
        "def sum_of_evens(numbers):\n",
        "    return sum(num for num in numbers if num % 2 == 0)\n",
        "\n",
        "nums = [1, 2, 3, 4, 5, 6, 7, 8]\n",
        "print(\"Sum of even numbers:\", sum_of_evens(nums))\n"
      ],
      "metadata": {
        "colab": {
          "base_uri": "https://localhost:8080/"
        },
        "id": "Mz0ctXz8-KCp",
        "outputId": "3aa41cde-5a53-4b9c-add8-b985c5793cf2"
      },
      "execution_count": null,
      "outputs": [
        {
          "output_type": "stream",
          "name": "stdout",
          "text": [
            "Sum of even numbers: 20\n"
          ]
        }
      ]
    },
    {
      "cell_type": "markdown",
      "source": [
        "Q2.  Create a Python function that accepts a string and returns the reverse of that string."
      ],
      "metadata": {
        "id": "dk7nO30q-4Vm"
      }
    },
    {
      "cell_type": "code",
      "source": [
        "def reverse_string(s):\n",
        "    return s[::-1]\n",
        "\n",
        "text = \"Shyam\"\n",
        "print(\"Reversed string:\", reverse_string(text))\n"
      ],
      "metadata": {
        "colab": {
          "base_uri": "https://localhost:8080/"
        },
        "id": "pjp0jYvp_ADe",
        "outputId": "d9177ed4-8fdf-4951-e23c-7d344be40e42"
      },
      "execution_count": null,
      "outputs": [
        {
          "output_type": "stream",
          "name": "stdout",
          "text": [
            "Reversed string: mayhS\n"
          ]
        }
      ]
    },
    {
      "cell_type": "markdown",
      "source": [
        "Q3. Implement a Python function that takes a list of integers and returns a new list containing the squares of each number."
      ],
      "metadata": {
        "id": "JoZstRhJ_Dkv"
      }
    },
    {
      "cell_type": "code",
      "source": [
        "def square_list(numbers):\n",
        "    return [num**2 for num in numbers]\n",
        "\n",
        "nums = [1, 2, 3, 4, 5, 6]\n",
        "print(\"Squares:\", square_list(nums))\n"
      ],
      "metadata": {
        "colab": {
          "base_uri": "https://localhost:8080/"
        },
        "id": "-6axnvTc_MXO",
        "outputId": "81a9fecf-ba62-48a1-f5fc-dfbe0d9614f9"
      },
      "execution_count": null,
      "outputs": [
        {
          "output_type": "stream",
          "name": "stdout",
          "text": [
            "Squares: [1, 4, 9, 16, 25, 36]\n"
          ]
        }
      ]
    },
    {
      "cell_type": "markdown",
      "source": [
        "Q4. Write a Python function that checks if a given number is prime or not from 1 to 200."
      ],
      "metadata": {
        "id": "pmahnOeQ_PYG"
      }
    },
    {
      "cell_type": "code",
      "source": [
        "def is_prime(n):\n",
        "    if n < 2:\n",
        "        return False\n",
        "    for i in range(2, int(n**0.5) + 1):\n",
        "        if n % i == 0:\n",
        "            return False\n",
        "    return True\n",
        "\n",
        "primes = [n for n in range(1, 201) if is_prime(n)]\n",
        "print(\"Prime numbers between 1 and 200:\")\n",
        "print(primes)\n"
      ],
      "metadata": {
        "colab": {
          "base_uri": "https://localhost:8080/"
        },
        "id": "6qxPnqhv_T0W",
        "outputId": "e0ab39e7-cf11-45b0-d352-0bc175e9e3b5"
      },
      "execution_count": null,
      "outputs": [
        {
          "output_type": "stream",
          "name": "stdout",
          "text": [
            "Prime numbers between 1 and 200:\n",
            "[2, 3, 5, 7, 11, 13, 17, 19, 23, 29, 31, 37, 41, 43, 47, 53, 59, 61, 67, 71, 73, 79, 83, 89, 97, 101, 103, 107, 109, 113, 127, 131, 137, 139, 149, 151, 157, 163, 167, 173, 179, 181, 191, 193, 197, 199]\n"
          ]
        }
      ]
    },
    {
      "cell_type": "markdown",
      "source": [
        "Q5. . Create an iterator class in Python that generates the Fibonacci sequence up to a specified number of terms."
      ],
      "metadata": {
        "id": "9RuLQm4P_cBW"
      }
    },
    {
      "cell_type": "code",
      "source": [
        "def fib(n):\n",
        "    a=0\n",
        "    b=1\n",
        "    for i in range(n):\n",
        "        yield a\n",
        "        a,b=b,a+b\n",
        "\n",
        "f=fib(20)\n",
        "print(next(f),end=\" \")\n",
        "print(next(f),end=\" \")\n",
        "print(next(f),end=\" \")\n",
        "print(next(f),end=\" \")\n",
        "print(next(f),end=\" \")\n",
        "print(next(f),end=\" \")\n",
        "print(next(f),end=\" \")\n",
        "print(next(f),end=\" \")\n",
        "print(next(f),end=\" \")\n",
        "print(next(f),end=\" \")"
      ],
      "metadata": {
        "colab": {
          "base_uri": "https://localhost:8080/"
        },
        "id": "_HmLHm33-04K",
        "outputId": "77a315c1-77e9-494e-b1ec-b79f166468d7"
      },
      "execution_count": 6,
      "outputs": [
        {
          "output_type": "stream",
          "name": "stdout",
          "text": [
            "0 1 1 2 3 5 8 13 21 34 "
          ]
        }
      ]
    },
    {
      "cell_type": "markdown",
      "source": [
        "Q6.  Write a generator function in Python that yields the powers of 2 up to a given exponent."
      ],
      "metadata": {
        "id": "Izcrw2hbAyF_"
      }
    },
    {
      "cell_type": "code",
      "source": [
        "def powers_of_two(n):\n",
        "    for i in range(n + 1):\n",
        "        yield 2 ** i\n",
        "\n",
        "\n",
        "for val in powers_of_two(10):\n",
        "    print(val, end=\" \")\n"
      ],
      "metadata": {
        "colab": {
          "base_uri": "https://localhost:8080/"
        },
        "id": "59I6mLxQACR7",
        "outputId": "70ac02d8-1b05-498f-a8ea-79c61a6b3fa4"
      },
      "execution_count": null,
      "outputs": [
        {
          "output_type": "stream",
          "name": "stdout",
          "text": [
            "1 2 4 8 16 32 64 128 256 512 1024 "
          ]
        }
      ]
    },
    {
      "cell_type": "markdown",
      "source": [
        "Q7. Implement a generator function that reads a file line by line and yields each line as a string."
      ],
      "metadata": {
        "id": "YAJ7D0msA_hX"
      }
    },
    {
      "cell_type": "code",
      "source": [],
      "metadata": {
        "id": "klNW7g-IA7Wz"
      },
      "execution_count": null,
      "outputs": []
    },
    {
      "cell_type": "code",
      "source": [
        "# Create example.txt in your Google Drive\n",
        "#with open(\"/content/drive/My Drive/PWSkills/example.txt\", \"w\") as f:\n",
        "#    f.write(\"Hello, this is the first line.\\n\")\n",
        "#    f.write(\"This is the second line.\\n\")\n",
        "#    f.write(\"Python generators are powerful!\\n\")\n",
        "#    f.write(\"This is the last line of the file.\\n\")\n"
      ],
      "metadata": {
        "id": "2E_1HfQAFBZm"
      },
      "execution_count": null,
      "outputs": []
    },
    {
      "cell_type": "code",
      "source": [
        "from google.colab import drive\n",
        "drive.mount('/content/drive')\n",
        "#!ls \"/content/drive/My Drive/PWSkills\"\n",
        "file_path = \"/content/drive/My Drive/PWSkills/example.txt\"\n",
        "\n",
        "def read_file_lines(filename):\n",
        "    with open(filename, 'r') as file:\n",
        "        for line in file:\n",
        "            yield line.strip()\n",
        "\n",
        "for line in read_file_lines(file_path):\n",
        "    print(line)"
      ],
      "metadata": {
        "colab": {
          "base_uri": "https://localhost:8080/"
        },
        "id": "2q5yHa5REEAV",
        "outputId": "05a8dab0-a6c2-42e0-d21e-69b13d3c59c1"
      },
      "execution_count": null,
      "outputs": [
        {
          "output_type": "stream",
          "name": "stdout",
          "text": [
            "Drive already mounted at /content/drive; to attempt to forcibly remount, call drive.mount(\"/content/drive\", force_remount=True).\n",
            "Hello, this is the first line.\n",
            "This is the second line.\n",
            "Python generators are powerful!\n",
            "This is the last line of the file.\n"
          ]
        }
      ]
    },
    {
      "cell_type": "markdown",
      "source": [
        "Q8. Use a lambda function in Python to sort a list of tuples based on the second element of each tuple."
      ],
      "metadata": {
        "id": "IYi8DI-_Fmrn"
      }
    },
    {
      "cell_type": "code",
      "source": [
        "# List of tuples\n",
        "data = [(1, 5), (3, 1), (2, 9), (4, 7)]\n",
        "\n",
        "sorted_data = sorted(data, key=lambda x: x[1])\n",
        "\n",
        "print(sorted_data)\n"
      ],
      "metadata": {
        "colab": {
          "base_uri": "https://localhost:8080/"
        },
        "id": "ezO32XZWEb_a",
        "outputId": "bedbc4d9-fcf5-477f-8866-00cdf2a63530"
      },
      "execution_count": null,
      "outputs": [
        {
          "output_type": "stream",
          "name": "stdout",
          "text": [
            "[(3, 1), (1, 5), (4, 7), (2, 9)]\n"
          ]
        }
      ]
    },
    {
      "cell_type": "markdown",
      "source": [
        "Q9. Write a Python program that uses `map()` to convert a list of temperatures from Celsius to Fahrenheit."
      ],
      "metadata": {
        "id": "BQ70svBIFxyf"
      }
    },
    {
      "cell_type": "code",
      "source": [
        "celsius = [0, 20, 37, 100]\n",
        "\n",
        "fahrenheit = list(map(lambda c: (c * 9/5) + 32, celsius))\n",
        "\n",
        "print(\"Celsius:    \", celsius)\n",
        "print(\"Fahrenheit: \", fahrenheit)\n"
      ],
      "metadata": {
        "colab": {
          "base_uri": "https://localhost:8080/"
        },
        "id": "iftkDStcF5Ce",
        "outputId": "e31c10e1-9a23-4b28-a5de-c977f81e655e"
      },
      "execution_count": null,
      "outputs": [
        {
          "output_type": "stream",
          "name": "stdout",
          "text": [
            "Celsius:     [0, 20, 37, 100]\n",
            "Fahrenheit:  [32.0, 68.0, 98.6, 212.0]\n"
          ]
        }
      ]
    },
    {
      "cell_type": "markdown",
      "source": [
        "Q10. Create a Python program that uses `filter()` to remove all the vowels from a given string"
      ],
      "metadata": {
        "id": "VZzWcMEhF_-u"
      }
    },
    {
      "cell_type": "code",
      "source": [
        "text = \"Python Programming\"\n",
        "\n",
        "result = \"\".join(filter(lambda ch: ch.lower() not in \"aeiou\", text))\n",
        "\n",
        "print(\"Original:\", text)\n",
        "print(\"Without vowels:\", result)\n"
      ],
      "metadata": {
        "colab": {
          "base_uri": "https://localhost:8080/"
        },
        "id": "nyaDBc1zGJBu",
        "outputId": "61fed586-e0ca-48d1-b2d5-3bcbe6275dc4"
      },
      "execution_count": null,
      "outputs": [
        {
          "output_type": "stream",
          "name": "stdout",
          "text": [
            "Original: Python Programming\n",
            "Without vowels: Pythn Prgrmmng\n"
          ]
        }
      ]
    },
    {
      "cell_type": "markdown",
      "source": [
        "Q11. Imagine an accounting routine used in a book shop. It works on a list with sublists, which look like this:\n",
        "\n",
        "\n",
        "Write a Python program, which returns a list with 2-tuples. Each tuple consists of the order number and the product of the price per item and the quantity. The product should be increased by 10,- € if the value of the order is smaller than 100,00 €.\n",
        "Write a Python program using lambda and map."
      ],
      "metadata": {
        "id": "hqwBOLA9GMSn"
      }
    },
    {
      "cell_type": "code",
      "source": [
        "orders = [\n",
        "    [34587, \"Learning Python, Mark Lutz\", 4, 40.95],\n",
        "    [98762, \"Programming Python, Mark Lutz\", 5, 56.80],\n",
        "    [77226, \"Head First Python, Paul Barry\", 3, 32.95],\n",
        "    [88112, \"Einführung in Python3, Bernd Klein\", 3, 24.99]\n",
        "]\n",
        "\n",
        "order_totals = list(map(lambda order: (order[0], order[2] * order[3] if order[2] * order[3] >= 100 else order[2] * order[3] + 10), orders))\n",
        "\n",
        "print(order_totals)\n"
      ],
      "metadata": {
        "colab": {
          "base_uri": "https://localhost:8080/"
        },
        "id": "e0dBOqVbFv8a",
        "outputId": "ae7d20da-8672-4aef-a0f8-e9eb1d58001e"
      },
      "execution_count": null,
      "outputs": [
        {
          "output_type": "stream",
          "name": "stdout",
          "text": [
            "[(34587, 163.8), (98762, 284.0), (77226, 108.85000000000001), (88112, 84.97)]\n"
          ]
        }
      ]
    },
    {
      "cell_type": "code",
      "source": [
        "orders = [\n",
        "    [34587, \"Learning Python, Mark Lutz\", 4, 40.95],\n",
        "    [98762, \"Programming Python, Mark Lutz\", 5, 56.80],\n",
        "    [77226, \"Head First Python, Paul Barry\", 3, 32.95],\n",
        "    [88112, \"Einführung in Python3, Bernd Klein\", 3, 24.99]\n",
        "]\n",
        "\n",
        "order_totals = list(map(lambda order: (order[0], round(order[2] * order[3], 2), round(order[2] * order[3] if order[2] * order[3] >= 100 else order[2] * order[3] + 10, 2)), orders))\n",
        "\n",
        "for order in order_totals:\n",
        "    print(f\"Order {order[0]} → Initial: {order[1]} €, Final: {order[2]} €\")\n"
      ],
      "metadata": {
        "colab": {
          "base_uri": "https://localhost:8080/"
        },
        "id": "3ZorHjaAG8QT",
        "outputId": "6549386d-e52f-44e7-8165-388e90ffb73c"
      },
      "execution_count": null,
      "outputs": [
        {
          "output_type": "stream",
          "name": "stdout",
          "text": [
            "Order 34587 → Initial: 163.8 €, Final: 163.8 €\n",
            "Order 98762 → Initial: 284.0 €, Final: 284.0 €\n",
            "Order 77226 → Initial: 98.85 €, Final: 108.85 €\n",
            "Order 88112 → Initial: 74.97 €, Final: 84.97 €\n"
          ]
        }
      ]
    },
    {
      "cell_type": "code",
      "source": [],
      "metadata": {
        "id": "jfez9VZFINvL"
      },
      "execution_count": null,
      "outputs": []
    }
  ]
}